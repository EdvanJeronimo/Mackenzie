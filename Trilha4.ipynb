{
  "nbformat": 4,
  "nbformat_minor": 0,
  "metadata": {
    "colab": {
      "name": "Trilha4.ipynb",
      "provenance": [],
      "collapsed_sections": [],
      "authorship_tag": "ABX9TyO+0ixlOv/cRzusNJp/Unz9",
      "include_colab_link": true
    },
    "language_info": {
      "name": "python"
    },
    "kernelspec": {
      "name": "python3",
      "display_name": "Python 3"
    }
  },
  "cells": [
    {
      "cell_type": "markdown",
      "metadata": {
        "id": "view-in-github",
        "colab_type": "text"
      },
      "source": [
        "<a href=\"https://colab.research.google.com/github/EdvanJeronimo/Mackenzie/blob/main/Trilha4.ipynb\" target=\"_parent\"><img src=\"https://colab.research.google.com/assets/colab-badge.svg\" alt=\"Open In Colab\"/></a>"
      ]
    },
    {
      "cell_type": "code",
      "metadata": {
        "colab": {
          "base_uri": "https://localhost:8080/"
        },
        "id": "lBR_M2KoeYn4",
        "outputId": "4ee6eea8-7561-49ad-d791-6bc3415e82a3"
      },
      "source": [
        "import pandas as pd\n",
        "import numpy as np\n",
        "\n",
        "df = pd.read_csv('https://raw.githubusercontent.com/EdvanJeronimo/Mackenzie/main/population_aged_20_39_years_both_sexes_percent.csv')\n",
        "\n",
        "paises = ['Argentina', 'Bolivia', 'Brazil', 'Chile', 'Colombia', 'Ecuador', 'Guyana', 'Paraguay','Peru','Suriname','Uruguay','Venezuela']\n",
        "\n",
        "paises_america_sul = df.country.isin(paises)\n",
        "filtrados = df[paises_america_sul]\n",
        "\n",
        "# Qual país da américa do sul possui a maior porcentagem da população com idade entre 20 a 39 anos em 2021?\n",
        "pais = filtrados[filtrados['2021']==filtrados['2021'].max()]\n",
        "pais.country\n",
        "filtrados['2021'].max()\n",
        "# O país com maior população é o Paraguai com 33.9%\n",
        "\n",
        "\n",
        "\n"
      ],
      "execution_count": 235,
      "outputs": [
        {
          "output_type": "execute_result",
          "data": {
            "text/plain": [
              "33.9"
            ]
          },
          "metadata": {},
          "execution_count": 235
        }
      ]
    }
  ]
}